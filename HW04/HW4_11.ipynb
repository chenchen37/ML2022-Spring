{
  "cells": [
    {
      "cell_type": "markdown",
      "source": [
        "\n",
        "\n",
        "*   d_model=210\n",
        "*   ConformerBlock x 4 (dim_head=32, heads=32, ff_dropout=0.1)\n",
        "*   BatchNorm1d, Linear\n",
        "*   100000 steps\n",
        "\n",
        "\n"
      ],
      "metadata": {
        "id": "EObt1k5iy_C2"
      }
    },
    {
      "cell_type": "markdown",
      "metadata": {
        "id": "C_jdZ5vHJ4A9"
      },
      "source": [
        "# Task description\n",
        "- Classify the speakers of given features.\n",
        "- Main goal: Learn how to use transformer.\n",
        "- Baselines:\n",
        "  - Easy: Run sample code and know how to use transformer.\n",
        "  - Medium: Know how to adjust parameters of transformer.\n",
        "  - Strong: Construct [conformer](https://arxiv.org/abs/2005.08100) which is a variety of transformer. \n",
        "  - Boss: Implement [Self-Attention Pooling](https://arxiv.org/pdf/2008.01077v1.pdf) & [Additive Margin Softmax](https://arxiv.org/pdf/1801.05599.pdf) to further boost the performance.\n",
        "\n",
        "- Other links\n",
        "  - Kaggle: [link](https://www.kaggle.com/t/ac77388c90204a4c8daebeddd40ff916)\n",
        "  - Slide: [link](https://docs.google.com/presentation/d/1HLAj7UUIjZOycDe7DaVLSwJfXVd3bXPOyzSb6Zk3hYU/edit?usp=sharing)\n",
        "  - Data: [link](https://drive.google.com/drive/folders/1vI1kuLB-q1VilIftiwnPOCAeOOFfBZge?usp=sharing)\n",
        "\n",
        "# Download dataset\n",
        "- Data is [here](https://drive.google.com/drive/folders/1vI1kuLB-q1VilIftiwnPOCAeOOFfBZge?usp=sharing)"
      ]
    },
    {
      "cell_type": "code",
      "execution_count": null,
      "metadata": {
        "id": "acGkEeAlc7DX"
      },
      "outputs": [],
      "source": [
        "!wget https://github.com/MachineLearningHW/ML_HW4_Dataset/releases/latest/download/Dataset.tar.gz.partaa\n",
        "!wget https://github.com/MachineLearningHW/ML_HW4_Dataset/releases/latest/download/Dataset.tar.gz.partab\n",
        "!wget https://github.com/MachineLearningHW/ML_HW4_Dataset/releases/latest/download/Dataset.tar.gz.partac\n",
        "!wget https://github.com/MachineLearningHW/ML_HW4_Dataset/releases/latest/download/Dataset.tar.gz.partad\n",
        "\n",
        "!cat Dataset.tar.gz.part* > Dataset.tar.gz\n",
        "\n",
        "# unzip the file\n",
        "!tar zxvf Dataset.tar.gz"
      ]
    },
    {
      "cell_type": "code",
      "execution_count": null,
      "metadata": {
        "colab": {
          "base_uri": "https://localhost:8080/"
        },
        "id": "2lzDa7yLXzFS",
        "outputId": "b7561324-f11f-47c5-caac-1184ffae7ab7"
      },
      "outputs": [
        {
          "output_type": "stream",
          "name": "stdout",
          "text": [
            "Collecting conformer\n",
            "  Downloading conformer-0.2.5-py3-none-any.whl (4.1 kB)\n",
            "Collecting einops\n",
            "  Downloading einops-0.4.1-py3-none-any.whl (28 kB)\n",
            "Requirement already satisfied: torch in /usr/local/lib/python3.7/dist-packages (from conformer) (1.10.0+cu111)\n",
            "Requirement already satisfied: typing-extensions in /usr/local/lib/python3.7/dist-packages (from torch->conformer) (3.10.0.2)\n",
            "Installing collected packages: einops, conformer\n",
            "Successfully installed conformer-0.2.5 einops-0.4.1\n"
          ]
        }
      ],
      "source": [
        "pip install conformer"
      ]
    },
    {
      "cell_type": "markdown",
      "metadata": {
        "id": "ENWVAUDVJtVY"
      },
      "source": [
        "## Fix Random Seed"
      ]
    },
    {
      "cell_type": "code",
      "execution_count": null,
      "metadata": {
        "id": "E6burzCXIyuA"
      },
      "outputs": [],
      "source": [
        "import numpy as np\n",
        "import torch\n",
        "import random\n",
        "\n",
        "def set_seed(seed):\n",
        "    np.random.seed(seed)\n",
        "    random.seed(seed)\n",
        "    torch.manual_seed(seed)\n",
        "    if torch.cuda.is_available():\n",
        "        torch.cuda.manual_seed(seed)\n",
        "        torch.cuda.manual_seed_all(seed)\n",
        "    torch.backends.cudnn.benchmark = False\n",
        "    torch.backends.cudnn.deterministic = True\n",
        "\n",
        "set_seed(87)"
      ]
    },
    {
      "cell_type": "markdown",
      "metadata": {
        "id": "k7dVbxW2LASN"
      },
      "source": [
        "# Data\n",
        "\n",
        "## Dataset\n",
        "- Original dataset is [Voxceleb2](https://www.robots.ox.ac.uk/~vgg/data/voxceleb/vox2.html).\n",
        "- The [license](https://creativecommons.org/licenses/by/4.0/) and [complete version](https://www.robots.ox.ac.uk/~vgg/data/voxceleb/files/license.txt) of Voxceleb2.\n",
        "- We randomly select 600 speakers from Voxceleb2.\n",
        "- Then preprocess the raw waveforms into mel-spectrograms.\n",
        "\n",
        "- Args:\n",
        "  - data_dir: The path to the data directory.\n",
        "  - metadata_path: The path to the metadata.\n",
        "  - segment_len: The length of audio segment for training. \n",
        "- The architecture of data directory \\\\\n",
        "  - data directory \\\\\n",
        "  |---- metadata.json \\\\\n",
        "  |---- testdata.json \\\\\n",
        "  |---- mapping.json \\\\\n",
        "  |---- uttr-{random string}.pt \\\\\n",
        "\n",
        "- The information in metadata\n",
        "  - \"n_mels\": The dimention of mel-spectrogram.\n",
        "  - \"speakers\": A dictionary. \n",
        "    - Key: speaker ids.\n",
        "    - value: \"feature_path\" and \"mel_len\"\n",
        "\n",
        "\n",
        "For efficiency, we segment the mel-spectrograms into segments in the traing step."
      ]
    },
    {
      "cell_type": "code",
      "execution_count": null,
      "metadata": {
        "id": "KpuGxl4CI2pr"
      },
      "outputs": [],
      "source": [
        "import os\n",
        "import json\n",
        "import torch\n",
        "import random\n",
        "from pathlib import Path\n",
        "from torch.utils.data import Dataset\n",
        "from torch.nn.utils.rnn import pad_sequence\n",
        " \n",
        " \n",
        "class myDataset(Dataset):\n",
        "\tdef __init__(self, data_dir, segment_len=128):\n",
        "\t\tself.data_dir = data_dir\n",
        "\t\tself.segment_len = segment_len\n",
        "\t\n",
        "\t\t# Load the mapping from speaker neme to their corresponding id. \n",
        "\t\tmapping_path = Path(data_dir) / \"mapping.json\"\n",
        "\t\tmapping = json.load(mapping_path.open())\n",
        "\t\tself.speaker2id = mapping[\"speaker2id\"]\n",
        "\t\n",
        "\t\t# Load metadata of training data.\n",
        "\t\tmetadata_path = Path(data_dir) / \"metadata.json\"\n",
        "\t\tmetadata = json.load(open(metadata_path))[\"speakers\"]\n",
        "\t\n",
        "\t\t# Get the total number of speaker.\n",
        "\t\tself.speaker_num = len(metadata.keys())\n",
        "\t\tself.data = []\n",
        "\t\tfor speaker in metadata.keys():\n",
        "\t\t\tfor utterances in metadata[speaker]:\n",
        "\t\t\t\tself.data.append([utterances[\"feature_path\"], self.speaker2id[speaker]])\n",
        " \n",
        "\tdef __len__(self):\n",
        "\t\t\treturn len(self.data)\n",
        " \n",
        "\tdef __getitem__(self, index):\n",
        "\t\tfeat_path, speaker = self.data[index]\n",
        "\t\t# Load preprocessed mel-spectrogram.\n",
        "\t\tmel = torch.load(os.path.join(self.data_dir, feat_path))\n",
        "\n",
        "\t\t# Segmemt mel-spectrogram into \"segment_len\" frames.\n",
        "\t\tif len(mel) > self.segment_len:\n",
        "\t\t\t# Randomly get the starting point of the segment.\n",
        "\t\t\tstart = random.randint(0, len(mel) - self.segment_len)\n",
        "\t\t\t# Get a segment with \"segment_len\" frames.\n",
        "\t\t\tmel = torch.FloatTensor(mel[start:start+self.segment_len])\n",
        "\t\telse:\n",
        "\t\t\tmel = torch.FloatTensor(mel)\n",
        "\t\t# Turn the speaker id into long for computing loss later.\n",
        "\t\tspeaker = torch.FloatTensor([speaker]).long()\n",
        "\t\treturn mel, speaker\n",
        " \n",
        "\tdef get_speaker_number(self):\n",
        "\t\treturn self.speaker_num"
      ]
    },
    {
      "cell_type": "markdown",
      "metadata": {
        "id": "668hverTMlGN"
      },
      "source": [
        "## Dataloader\n",
        "- Split dataset into training dataset(90%) and validation dataset(10%).\n",
        "- Create dataloader to iterate the data."
      ]
    },
    {
      "cell_type": "code",
      "execution_count": null,
      "metadata": {
        "id": "B7c2gZYoJDRS"
      },
      "outputs": [],
      "source": [
        "import torch\n",
        "from torch.utils.data import DataLoader, random_split\n",
        "from torch.nn.utils.rnn import pad_sequence\n",
        "\n",
        "\n",
        "def collate_batch(batch):\n",
        "\t# Process features within a batch.\n",
        "\t\"\"\"Collate a batch of data.\"\"\"\n",
        "\tmel, speaker = zip(*batch)\n",
        "\t# Because we train the model batch by batch, we need to pad the features in the same batch to make their lengths the same.\n",
        "\tmel = pad_sequence(mel, batch_first=True, padding_value=-20)    # pad log 10^(-20) which is very small value.\n",
        "\t# mel: (batch size, length, 40)\n",
        "\treturn mel, torch.FloatTensor(speaker).long()\n",
        "\n",
        "\n",
        "def get_dataloader(data_dir, batch_size, n_workers):\n",
        "\t\"\"\"Generate dataloader\"\"\"\n",
        "\tdataset = myDataset(data_dir)\n",
        "\tspeaker_num = dataset.get_speaker_number()\n",
        "\t# Split dataset into training dataset and validation dataset\n",
        "\ttrainlen = int(0.9 * len(dataset))\n",
        "\tlengths = [trainlen, len(dataset) - trainlen]\n",
        "\ttrainset, validset = random_split(dataset, lengths)\n",
        "\n",
        "\ttrain_loader = DataLoader(\n",
        "\t\ttrainset,\n",
        "\t\tbatch_size=batch_size,\n",
        "\t\tshuffle=True,\n",
        "\t\tdrop_last=True,\n",
        "\t\tnum_workers=n_workers,\n",
        "\t\tpin_memory=True,\n",
        "\t\tcollate_fn=collate_batch,\n",
        "\t)\n",
        "\tvalid_loader = DataLoader(\n",
        "\t\tvalidset,\n",
        "\t\tbatch_size=batch_size,\n",
        "\t\tnum_workers=n_workers,\n",
        "\t\tdrop_last=True,\n",
        "\t\tpin_memory=True,\n",
        "\t\tcollate_fn=collate_batch,\n",
        "\t)\n",
        "\n",
        "\treturn train_loader, valid_loader, speaker_num"
      ]
    },
    {
      "cell_type": "markdown",
      "metadata": {
        "id": "5FOSZYxrMqhc"
      },
      "source": [
        "# Model\n",
        "- TransformerEncoderLayer:\n",
        "  - Base transformer encoder layer in [Attention Is All You Need](https://arxiv.org/abs/1706.03762)\n",
        "  - Parameters:\n",
        "    - d_model: the number of expected features of the input (required).\n",
        "\n",
        "    - nhead: the number of heads of the multiheadattention models (required).\n",
        "\n",
        "    - dim_feedforward: the dimension of the feedforward network model (default=2048).\n",
        "\n",
        "    - dropout: the dropout value (default=0.1).\n",
        "\n",
        "    - activation: the activation function of intermediate layer, relu or gelu (default=relu).\n",
        "\n",
        "- TransformerEncoder:\n",
        "  - TransformerEncoder is a stack of N transformer encoder layers\n",
        "  - Parameters:\n",
        "    - encoder_layer: an instance of the TransformerEncoderLayer() class (required).\n",
        "\n",
        "    - num_layers: the number of sub-encoder-layers in the encoder (required).\n",
        "\n",
        "    - norm: the layer normalization component (optional)."
      ]
    },
    {
      "cell_type": "markdown",
      "metadata": {
        "id": "5XNKemE8fprh"
      },
      "source": [
        "Reference: https://github.com/lucidrains/conformer"
      ]
    },
    {
      "cell_type": "code",
      "execution_count": null,
      "metadata": {
        "id": "iXZ5B0EKJGs8"
      },
      "outputs": [],
      "source": [
        "import torch\n",
        "import torch.nn as nn\n",
        "import torch.nn.functional as F\n",
        "from conformer import ConformerBlock\n",
        "\n",
        "class Classifier(nn.Module):\n",
        "\tdef __init__(self, d_model=210, n_spks=600, dropout=0.1):\n",
        "\t\tsuper().__init__()\n",
        "\t\t# Project the dimension of features from that of input into d_model.\n",
        "\t\tself.prenet = nn.Linear(40, d_model)\n",
        "\t\t# TODO:\n",
        "\t\t#   Change Transformer to Conformer.\n",
        "\t\t#   https://arxiv.org/abs/2005.08100\n",
        "\t\tself.encoder_layer = nn.TransformerEncoderLayer(d_model=d_model, dim_feedforward=900, nhead=30)\n",
        "\n",
        "\t\tself.conformer_block = ConformerBlock(dim=d_model,\n",
        "\t\t                                      dim_head=32,\n",
        "\t\t\t\t\t\t\t\t\t\t\t  heads=32,\n",
        "\t\t\t\t\t\t\t\t\t\t\t  ff_dropout=0.1\n",
        "\t\t\t\t\t\t\t\t\t\t\t  )\n",
        "\t\t#self.encoder = nn.TransformerEncoder(self.conformer_block, num_layers=2)\n",
        "\n",
        "\t\t# Project the the dimension of features from d_model into speaker nums.\n",
        "\t\tself.pred_layer = nn.Sequential(\n",
        "\t\t\tnn.BatchNorm1d(d_model),\n",
        "\t\t\tnn.Linear(d_model, n_spks),\n",
        "\t\t)\n",
        "\n",
        "\tdef forward(self, mels):\n",
        "\t\t\"\"\"\n",
        "\t\targs:\n",
        "\t\t\tmels: (batch size, length, 40)\n",
        "\t\treturn:\n",
        "\t\t\tout: (batch size, n_spks)\n",
        "\t\t\"\"\"\n",
        "\t\t# out: (batch size, length, d_model)\n",
        "\t\tout = self.prenet(mels)\n",
        "\t\tout = self.conformer_block(out)\n",
        "\t\tout = self.conformer_block(out)\n",
        "\t\tout = self.conformer_block(out)\n",
        "\t\tout = self.conformer_block(out)\n",
        "\t\t# out: (length, batch size, d_model)\n",
        "\t\t#out = out.permute(1, 0, 2)\n",
        "\t\t# The encoder layer expect features in the shape of (length, batch size, d_model).\n",
        "\t\t#out = self.encoder(out)\n",
        "\t\t# out: (batch size, length, d_model)\n",
        "\t\t#out = out.transpose(0, 1)\n",
        "\t\t# mean pooling\n",
        "\t\tstats = out.mean(dim=1)\n",
        "\n",
        "\t\t# out: (batch, n_spks)\n",
        "\t\tout = self.pred_layer(stats)\n",
        "\t\treturn out"
      ]
    },
    {
      "cell_type": "markdown",
      "metadata": {
        "id": "W7yX8JinM5Ly"
      },
      "source": [
        "# Learning rate schedule\n",
        "- For transformer architecture, the design of learning rate schedule is different from that of CNN.\n",
        "- Previous works show that the warmup of learning rate is useful for training models with transformer architectures.\n",
        "- The warmup schedule\n",
        "  - Set learning rate to 0 in the beginning.\n",
        "  - The learning rate increases linearly from 0 to initial learning rate during warmup period."
      ]
    },
    {
      "cell_type": "code",
      "execution_count": null,
      "metadata": {
        "id": "ykt0N1nVJJi2"
      },
      "outputs": [],
      "source": [
        "import math\n",
        "\n",
        "import torch\n",
        "from torch.optim import Optimizer\n",
        "from torch.optim.lr_scheduler import LambdaLR\n",
        "\n",
        "\n",
        "def get_cosine_schedule_with_warmup(\n",
        "\toptimizer: Optimizer,\n",
        "\tnum_warmup_steps: int,\n",
        "\tnum_training_steps: int,\n",
        "\tnum_cycles: float = 0.5,\n",
        "\tlast_epoch: int = -1,\n",
        "):\n",
        "\t\"\"\"\n",
        "\tCreate a schedule with a learning rate that decreases following the values of the cosine function between the\n",
        "\tinitial lr set in the optimizer to 0, after a warmup period during which it increases linearly between 0 and the\n",
        "\tinitial lr set in the optimizer.\n",
        "\n",
        "\tArgs:\n",
        "\t\toptimizer (:class:`~torch.optim.Optimizer`):\n",
        "\t\tThe optimizer for which to schedule the learning rate.\n",
        "\t\tnum_warmup_steps (:obj:`int`):\n",
        "\t\tThe number of steps for the warmup phase.\n",
        "\t\tnum_training_steps (:obj:`int`):\n",
        "\t\tThe total number of training steps.\n",
        "\t\tnum_cycles (:obj:`float`, `optional`, defaults to 0.5):\n",
        "\t\tThe number of waves in the cosine schedule (the defaults is to just decrease from the max value to 0\n",
        "\t\tfollowing a half-cosine).\n",
        "\t\tlast_epoch (:obj:`int`, `optional`, defaults to -1):\n",
        "\t\tThe index of the last epoch when resuming training.\n",
        "\n",
        "\tReturn:\n",
        "\t\t:obj:`torch.optim.lr_scheduler.LambdaLR` with the appropriate schedule.\n",
        "\t\"\"\"\n",
        "\tdef lr_lambda(current_step):\n",
        "\t\t# Warmup\n",
        "\t\tif current_step < num_warmup_steps:\n",
        "\t\t\treturn float(current_step) / float(max(1, num_warmup_steps))\n",
        "\t\t# decadence\n",
        "\t\tprogress = float(current_step - num_warmup_steps) / float(\n",
        "\t\t\tmax(1, num_training_steps - num_warmup_steps)\n",
        "\t\t)\n",
        "\t\treturn max(\n",
        "\t\t\t0.0, 0.5 * (1.0 + math.cos(math.pi * float(num_cycles) * 2.0 * progress))\n",
        "\t\t)\n",
        "\n",
        "\treturn LambdaLR(optimizer, lr_lambda, last_epoch)"
      ]
    },
    {
      "cell_type": "markdown",
      "metadata": {
        "id": "-LN2XkteM_uH"
      },
      "source": [
        "# Model Function\n",
        "- Model forward function."
      ]
    },
    {
      "cell_type": "code",
      "execution_count": null,
      "metadata": {
        "id": "N-rr8529JMz0"
      },
      "outputs": [],
      "source": [
        "import torch\n",
        "\n",
        "\n",
        "def model_fn(batch, model, criterion, device):\n",
        "\t\"\"\"Forward a batch through the model.\"\"\"\n",
        "\n",
        "\tmels, labels = batch\n",
        "\tmels = mels.to(device)\n",
        "\tlabels = labels.to(device)\n",
        "\n",
        "\touts = model(mels)\n",
        "\n",
        "\tloss = criterion(outs, labels)\n",
        "\n",
        "\t# Get the speaker id with highest probability.\n",
        "\tpreds = outs.argmax(1)\n",
        "\t# Compute accuracy.\n",
        "\taccuracy = torch.mean((preds == labels).float())\n",
        "\n",
        "\treturn loss, accuracy"
      ]
    },
    {
      "cell_type": "markdown",
      "metadata": {
        "id": "cwM_xyOtNCI2"
      },
      "source": [
        "# Validate\n",
        "- Calculate accuracy of the validation set."
      ]
    },
    {
      "cell_type": "code",
      "execution_count": null,
      "metadata": {
        "id": "YAiv6kpdJRTJ"
      },
      "outputs": [],
      "source": [
        "from tqdm import tqdm\n",
        "import torch\n",
        "\n",
        "\n",
        "def valid(dataloader, model, criterion, device): \n",
        "\t\"\"\"Validate on validation set.\"\"\"\n",
        "\n",
        "\tmodel.eval()\n",
        "\trunning_loss = 0.0\n",
        "\trunning_accuracy = 0.0\n",
        "\tpbar = tqdm(total=len(dataloader.dataset), ncols=0, desc=\"Valid\", unit=\" uttr\")\n",
        "\n",
        "\tfor i, batch in enumerate(dataloader):\n",
        "\t\twith torch.no_grad():\n",
        "\t\t\tloss, accuracy = model_fn(batch, model, criterion, device)\n",
        "\t\t\trunning_loss += loss.item()\n",
        "\t\t\trunning_accuracy += accuracy.item()\n",
        "\n",
        "\t\tpbar.update(dataloader.batch_size)\n",
        "\t\tpbar.set_postfix(\n",
        "\t\t\tloss=f\"{running_loss / (i+1):.2f}\",\n",
        "\t\t\taccuracy=f\"{running_accuracy / (i+1):.2f}\",\n",
        "\t\t)\n",
        "\n",
        "\tpbar.close()\n",
        "\tmodel.train()\n",
        "\n",
        "\treturn running_accuracy / len(dataloader)"
      ]
    },
    {
      "cell_type": "markdown",
      "metadata": {
        "id": "g6ne9G-eNEdG"
      },
      "source": [
        "# Main function"
      ]
    },
    {
      "cell_type": "code",
      "execution_count": null,
      "metadata": {
        "colab": {
          "base_uri": "https://localhost:8080/"
        },
        "id": "Usv9s-CuJSG7",
        "outputId": "fe8560a8-40d4-40bc-f629-33c1ad502ad5"
      },
      "outputs": [
        {
          "output_type": "stream",
          "name": "stderr",
          "text": [
            "\rTrain:   7% 132/2000 [00:28<06:48,  4.57 step/s, accuracy=0.00, loss=6.44, step=132]"
          ]
        },
        {
          "output_type": "stream",
          "name": "stdout",
          "text": [
            "[Info]: Use cuda now!\n"
          ]
        },
        {
          "output_type": "stream",
          "name": "stderr",
          "text": [
            "\n",
            "/usr/local/lib/python3.7/dist-packages/torch/utils/data/dataloader.py:481: UserWarning: This DataLoader will create 8 worker processes in total. Our suggested max number of worker in current system is 4, which is smaller than what this DataLoader is going to create. Please be aware that excessive worker creation might get DataLoader running slow or even freeze, lower the worker number to avoid potential slowness/freeze if necessary.\n",
            "  cpuset_checked))\n"
          ]
        },
        {
          "output_type": "stream",
          "name": "stdout",
          "text": [
            "[Info]: Finish loading data!\n",
            "[Info]: Finish creating model!\n"
          ]
        },
        {
          "output_type": "stream",
          "name": "stderr",
          "text": [
            "Train: 100% 2000/2000 [03:24<00:00,  9.78 step/s, accuracy=0.25, loss=3.89, step=2000]\n",
            "Valid: 100% 5664/5667 [00:06<00:00, 898.06 uttr/s, accuracy=0.11, loss=4.50]\n",
            "Train: 100% 2000/2000 [03:24<00:00,  9.78 step/s, accuracy=0.53, loss=2.15, step=4000]\n",
            "Valid: 100% 5664/5667 [00:06<00:00, 907.47 uttr/s, accuracy=0.23, loss=4.05]\n",
            "Train: 100% 2000/2000 [03:24<00:00,  9.78 step/s, accuracy=0.75, loss=1.00, step=6000]\n",
            "Valid: 100% 5664/5667 [00:06<00:00, 905.88 uttr/s, accuracy=0.39, loss=2.95]\n",
            "Train: 100% 2000/2000 [03:24<00:00,  9.77 step/s, accuracy=0.78, loss=0.74, step=8000]\n",
            "Valid: 100% 5664/5667 [00:06<00:00, 904.37 uttr/s, accuracy=0.54, loss=2.05]\n",
            "Train: 100% 2000/2000 [03:24<00:00,  9.78 step/s, accuracy=0.72, loss=0.83, step=1e+4]\n",
            "Valid: 100% 5664/5667 [00:06<00:00, 902.06 uttr/s, accuracy=0.43, loss=2.84]\n",
            "\n",
            "Train:   0% 0/2000 [00:00<?, ? step/s]\n",
            "Train:   0% 1/2000 [00:00<04:35,  7.26 step/s, accuracy=0.78, loss=0.64, step=1e+4]"
          ]
        },
        {
          "output_type": "stream",
          "name": "stdout",
          "text": [
            "Step 10000, best model saved. (accuracy=0.5438)\n"
          ]
        },
        {
          "output_type": "stream",
          "name": "stderr",
          "text": [
            "Train: 100% 2000/2000 [03:24<00:00,  9.79 step/s, accuracy=0.84, loss=0.59, step=12000]\n",
            "Valid: 100% 5664/5667 [00:06<00:00, 908.39 uttr/s, accuracy=0.63, loss=1.65]\n",
            "Train: 100% 2000/2000 [03:24<00:00,  9.79 step/s, accuracy=0.88, loss=0.54, step=14000]\n",
            "Valid: 100% 5664/5667 [00:06<00:00, 906.82 uttr/s, accuracy=0.57, loss=1.97]\n",
            "Train: 100% 2000/2000 [03:24<00:00,  9.76 step/s, accuracy=0.91, loss=0.54, step=16000]\n",
            "Valid: 100% 5664/5667 [00:06<00:00, 910.40 uttr/s, accuracy=0.66, loss=1.51]\n",
            "Train: 100% 2000/2000 [03:24<00:00,  9.77 step/s, accuracy=0.75, loss=0.95, step=18000]\n",
            "Valid: 100% 5664/5667 [00:06<00:00, 899.77 uttr/s, accuracy=0.68, loss=1.41]\n",
            "Train: 100% 2000/2000 [03:25<00:00,  9.72 step/s, accuracy=0.78, loss=0.67, step=2e+4]\n",
            "Valid: 100% 5664/5667 [00:06<00:00, 898.81 uttr/s, accuracy=0.69, loss=1.38]\n",
            "\n",
            "Train:   0% 0/2000 [00:00<?, ? step/s]\n",
            "Train:   0% 1/2000 [00:00<04:48,  6.92 step/s, accuracy=0.88, loss=0.53, step=2e+4]"
          ]
        },
        {
          "output_type": "stream",
          "name": "stdout",
          "text": [
            "Step 20000, best model saved. (accuracy=0.6893)\n"
          ]
        },
        {
          "output_type": "stream",
          "name": "stderr",
          "text": [
            "Train: 100% 2000/2000 [03:25<00:00,  9.72 step/s, accuracy=0.94, loss=0.37, step=22000]\n",
            "Valid: 100% 5664/5667 [00:06<00:00, 895.90 uttr/s, accuracy=0.64, loss=1.65]\n",
            "Train: 100% 2000/2000 [03:26<00:00,  9.70 step/s, accuracy=0.88, loss=0.33, step=24000]\n",
            "Valid: 100% 5664/5667 [00:06<00:00, 893.79 uttr/s, accuracy=0.71, loss=1.30]\n",
            "Train: 100% 2000/2000 [03:25<00:00,  9.72 step/s, accuracy=0.91, loss=0.37, step=26000]\n",
            "Valid: 100% 5664/5667 [00:06<00:00, 894.52 uttr/s, accuracy=0.68, loss=1.46]\n",
            "Train: 100% 2000/2000 [03:25<00:00,  9.72 step/s, accuracy=0.91, loss=0.30, step=28000]\n",
            "Valid: 100% 5664/5667 [00:06<00:00, 895.41 uttr/s, accuracy=0.70, loss=1.36]\n",
            "Train: 100% 2000/2000 [03:25<00:00,  9.72 step/s, accuracy=0.88, loss=0.29, step=3e+4]\n",
            "Valid: 100% 5664/5667 [00:06<00:00, 892.32 uttr/s, accuracy=0.70, loss=1.37]\n",
            "\n",
            "Train:   0% 0/2000 [00:00<?, ? step/s]\n",
            "Train:   0% 1/2000 [00:00<04:51,  6.85 step/s, accuracy=0.94, loss=0.38, step=3e+4]"
          ]
        },
        {
          "output_type": "stream",
          "name": "stdout",
          "text": [
            "Step 30000, best model saved. (accuracy=0.7133)\n"
          ]
        },
        {
          "output_type": "stream",
          "name": "stderr",
          "text": [
            "Train: 100% 2000/2000 [03:26<00:00,  9.70 step/s, accuracy=0.94, loss=0.13, step=32000]\n",
            "Valid: 100% 5664/5667 [00:06<00:00, 898.10 uttr/s, accuracy=0.73, loss=1.18]\n",
            "Train: 100% 2000/2000 [03:25<00:00,  9.72 step/s, accuracy=0.94, loss=0.24, step=34000]\n",
            "Valid: 100% 5664/5667 [00:06<00:00, 895.30 uttr/s, accuracy=0.76, loss=1.06]\n",
            "Train: 100% 2000/2000 [03:25<00:00,  9.72 step/s, accuracy=1.00, loss=0.03, step=36000]\n",
            "Valid: 100% 5664/5667 [00:06<00:00, 883.30 uttr/s, accuracy=0.75, loss=1.15]\n",
            "Train: 100% 2000/2000 [03:24<00:00,  9.76 step/s, accuracy=0.97, loss=0.35, step=38000]\n",
            "Valid: 100% 5664/5667 [00:06<00:00, 901.84 uttr/s, accuracy=0.73, loss=1.18]\n",
            "Train: 100% 2000/2000 [03:24<00:00,  9.76 step/s, accuracy=0.94, loss=0.34, step=4e+4]\n",
            "Valid: 100% 5664/5667 [00:06<00:00, 908.56 uttr/s, accuracy=0.77, loss=0.98]\n",
            "\n",
            "Train:   0% 0/2000 [00:00<?, ? step/s]\n",
            "Train:   0% 1/2000 [00:00<04:49,  6.90 step/s, accuracy=0.94, loss=0.24, step=4e+4]"
          ]
        },
        {
          "output_type": "stream",
          "name": "stdout",
          "text": [
            "Step 40000, best model saved. (accuracy=0.7666)\n"
          ]
        },
        {
          "output_type": "stream",
          "name": "stderr",
          "text": [
            "Train: 100% 2000/2000 [03:24<00:00,  9.78 step/s, accuracy=0.97, loss=0.05, step=42000]\n",
            "Valid: 100% 5664/5667 [00:06<00:00, 906.20 uttr/s, accuracy=0.77, loss=1.02]\n",
            "Train: 100% 2000/2000 [03:24<00:00,  9.79 step/s, accuracy=1.00, loss=0.02, step=44000]\n",
            "Valid: 100% 5664/5667 [00:06<00:00, 907.20 uttr/s, accuracy=0.81, loss=0.87]\n",
            "Train: 100% 2000/2000 [03:24<00:00,  9.79 step/s, accuracy=0.94, loss=0.21, step=46000]\n",
            "Valid: 100% 5664/5667 [00:06<00:00, 908.24 uttr/s, accuracy=0.78, loss=0.99]\n",
            "Train: 100% 2000/2000 [03:24<00:00,  9.77 step/s, accuracy=1.00, loss=0.02, step=48000]\n",
            "Valid: 100% 5664/5667 [00:06<00:00, 908.67 uttr/s, accuracy=0.82, loss=0.80]\n",
            "Train: 100% 2000/2000 [03:24<00:00,  9.79 step/s, accuracy=1.00, loss=0.05, step=5e+4]\n",
            "Valid: 100% 5664/5667 [00:06<00:00, 907.91 uttr/s, accuracy=0.80, loss=0.87]\n",
            "\n",
            "Train:   0% 0/2000 [00:00<?, ? step/s]\n",
            "Train:   0% 1/2000 [00:00<04:38,  7.19 step/s, accuracy=1.00, loss=0.03, step=5e+4]"
          ]
        },
        {
          "output_type": "stream",
          "name": "stdout",
          "text": [
            "Step 50000, best model saved. (accuracy=0.8238)\n"
          ]
        },
        {
          "output_type": "stream",
          "name": "stderr",
          "text": [
            "Train: 100% 2000/2000 [03:24<00:00,  9.79 step/s, accuracy=1.00, loss=0.04, step=52000]\n",
            "Valid: 100% 5664/5667 [00:06<00:00, 907.60 uttr/s, accuracy=0.81, loss=0.82]\n",
            "Train: 100% 2000/2000 [03:24<00:00,  9.78 step/s, accuracy=1.00, loss=0.03, step=54000]\n",
            "Valid: 100% 5664/5667 [00:06<00:00, 904.54 uttr/s, accuracy=0.80, loss=0.85]\n",
            "Train: 100% 2000/2000 [03:24<00:00,  9.76 step/s, accuracy=0.94, loss=0.06, step=56000]\n",
            "Valid: 100% 5664/5667 [00:06<00:00, 901.30 uttr/s, accuracy=0.82, loss=0.79]\n",
            "Train: 100% 2000/2000 [03:24<00:00,  9.77 step/s, accuracy=1.00, loss=0.04, step=58000]\n",
            "Valid: 100% 5664/5667 [00:06<00:00, 898.15 uttr/s, accuracy=0.80, loss=0.90]\n",
            "Train: 100% 2000/2000 [03:26<00:00,  9.70 step/s, accuracy=1.00, loss=0.07, step=6e+4]\n",
            "Valid: 100% 5664/5667 [00:06<00:00, 900.09 uttr/s, accuracy=0.84, loss=0.72]\n",
            "\n",
            "Train:   0% 0/2000 [00:00<?, ? step/s]\n",
            "Train:   0% 1/2000 [00:00<04:44,  7.03 step/s, accuracy=1.00, loss=0.03, step=6e+4]"
          ]
        },
        {
          "output_type": "stream",
          "name": "stdout",
          "text": [
            "Step 60000, best model saved. (accuracy=0.8430)\n"
          ]
        },
        {
          "output_type": "stream",
          "name": "stderr",
          "text": [
            "Train: 100% 2000/2000 [03:26<00:00,  9.69 step/s, accuracy=0.88, loss=0.21, step=62000]\n",
            "Valid: 100% 5664/5667 [00:06<00:00, 890.87 uttr/s, accuracy=0.85, loss=0.70]\n",
            "Train: 100% 2000/2000 [03:26<00:00,  9.67 step/s, accuracy=0.97, loss=0.07, step=64000]\n",
            "Valid: 100% 5664/5667 [00:06<00:00, 882.92 uttr/s, accuracy=0.86, loss=0.66]\n",
            "Train: 100% 2000/2000 [03:26<00:00,  9.69 step/s, accuracy=1.00, loss=0.03, step=66000]\n",
            "Valid: 100% 5664/5667 [00:06<00:00, 887.73 uttr/s, accuracy=0.85, loss=0.66]\n",
            "Train: 100% 2000/2000 [03:26<00:00,  9.69 step/s, accuracy=0.97, loss=0.04, step=68000]\n",
            "Valid: 100% 5664/5667 [00:06<00:00, 886.28 uttr/s, accuracy=0.87, loss=0.59]\n",
            "Train: 100% 2000/2000 [03:26<00:00,  9.69 step/s, accuracy=1.00, loss=0.02, step=7e+4]\n",
            "Valid: 100% 5664/5667 [00:06<00:00, 889.26 uttr/s, accuracy=0.85, loss=0.64]\n",
            "\n",
            "Train:   0% 0/2000 [00:00<?, ? step/s]\n",
            "Train:   0% 1/2000 [00:00<04:39,  7.15 step/s, accuracy=0.97, loss=0.06, step=7e+4]"
          ]
        },
        {
          "output_type": "stream",
          "name": "stdout",
          "text": [
            "Step 70000, best model saved. (accuracy=0.8690)\n"
          ]
        },
        {
          "output_type": "stream",
          "name": "stderr",
          "text": [
            "Train: 100% 2000/2000 [03:26<00:00,  9.67 step/s, accuracy=1.00, loss=0.00, step=72000]\n",
            "Valid: 100% 5664/5667 [00:06<00:00, 889.42 uttr/s, accuracy=0.87, loss=0.58]\n",
            "Train: 100% 2000/2000 [03:26<00:00,  9.69 step/s, accuracy=1.00, loss=0.04, step=74000]\n",
            "Valid: 100% 5664/5667 [00:06<00:00, 891.48 uttr/s, accuracy=0.87, loss=0.57]\n",
            "Train: 100% 2000/2000 [03:26<00:00,  9.69 step/s, accuracy=0.97, loss=0.09, step=76000]\n",
            "Valid: 100% 5664/5667 [00:06<00:00, 885.45 uttr/s, accuracy=0.87, loss=0.57]\n",
            "Train: 100% 2000/2000 [03:26<00:00,  9.69 step/s, accuracy=1.00, loss=0.02, step=78000]\n",
            "Valid: 100% 5664/5667 [00:06<00:00, 890.56 uttr/s, accuracy=0.88, loss=0.55]\n",
            "Train: 100% 2000/2000 [03:26<00:00,  9.67 step/s, accuracy=1.00, loss=0.01, step=8e+4]\n",
            "Valid: 100% 5664/5667 [00:06<00:00, 886.43 uttr/s, accuracy=0.88, loss=0.52]\n",
            "\n",
            "Train:   0% 0/2000 [00:00<?, ? step/s]\n",
            "Train:   0% 1/2000 [00:00<04:38,  7.19 step/s, accuracy=1.00, loss=0.00, step=8e+4]"
          ]
        },
        {
          "output_type": "stream",
          "name": "stdout",
          "text": [
            "Step 80000, best model saved. (accuracy=0.8831)\n"
          ]
        },
        {
          "output_type": "stream",
          "name": "stderr",
          "text": [
            "Train: 100% 2000/2000 [03:26<00:00,  9.69 step/s, accuracy=1.00, loss=0.02, step=82000]\n",
            "Valid: 100% 5664/5667 [00:06<00:00, 886.81 uttr/s, accuracy=0.88, loss=0.54]\n",
            "Train: 100% 2000/2000 [03:26<00:00,  9.69 step/s, accuracy=1.00, loss=0.01, step=84000]\n",
            "Valid: 100% 5664/5667 [00:06<00:00, 889.27 uttr/s, accuracy=0.88, loss=0.54]\n",
            "Train: 100% 2000/2000 [03:26<00:00,  9.69 step/s, accuracy=1.00, loss=0.00, step=86000]\n",
            "Valid: 100% 5664/5667 [00:06<00:00, 888.05 uttr/s, accuracy=0.88, loss=0.53]\n",
            "Train: 100% 2000/2000 [03:26<00:00,  9.67 step/s, accuracy=1.00, loss=0.01, step=88000]\n",
            "Valid: 100% 5664/5667 [00:06<00:00, 888.94 uttr/s, accuracy=0.89, loss=0.52]\n",
            "Train: 100% 2000/2000 [03:26<00:00,  9.69 step/s, accuracy=1.00, loss=0.01, step=9e+4]\n",
            "Valid: 100% 5664/5667 [00:06<00:00, 889.17 uttr/s, accuracy=0.88, loss=0.52]\n",
            "\n",
            "Train:   0% 0/2000 [00:00<?, ? step/s]\n",
            "Train:   0% 1/2000 [00:00<04:47,  6.96 step/s, accuracy=1.00, loss=0.00, step=9e+4]"
          ]
        },
        {
          "output_type": "stream",
          "name": "stdout",
          "text": [
            "Step 90000, best model saved. (accuracy=0.8874)\n"
          ]
        },
        {
          "output_type": "stream",
          "name": "stderr",
          "text": [
            "Train: 100% 2000/2000 [03:26<00:00,  9.69 step/s, accuracy=1.00, loss=0.00, step=92000]\n",
            "Valid: 100% 5664/5667 [00:06<00:00, 872.95 uttr/s, accuracy=0.90, loss=0.48]\n",
            "Train: 100% 2000/2000 [03:26<00:00,  9.66 step/s, accuracy=0.97, loss=0.04, step=94000]\n",
            "Valid: 100% 5664/5667 [00:06<00:00, 886.37 uttr/s, accuracy=0.89, loss=0.49]\n",
            "Train: 100% 2000/2000 [03:26<00:00,  9.69 step/s, accuracy=0.97, loss=0.05, step=96000]\n",
            "Valid: 100% 5664/5667 [00:06<00:00, 890.29 uttr/s, accuracy=0.89, loss=0.48]\n",
            "Train: 100% 2000/2000 [03:26<00:00,  9.69 step/s, accuracy=1.00, loss=0.02, step=98000]\n",
            "Valid: 100% 5664/5667 [00:06<00:00, 890.02 uttr/s, accuracy=0.89, loss=0.48]\n",
            "Train: 100% 2000/2000 [03:26<00:00,  9.69 step/s, accuracy=1.00, loss=0.01, step=1e+5]\n",
            "Valid: 100% 5664/5667 [00:06<00:00, 890.48 uttr/s, accuracy=0.89, loss=0.49]\n",
            "\n",
            "Train:   0% 0/2000 [00:00<?, ? step/s]\n",
            "Train:   0% 0/2000 [00:00<?, ? step/s]\n"
          ]
        },
        {
          "output_type": "stream",
          "name": "stdout",
          "text": [
            "Step 100000, best model saved. (accuracy=0.8988)\n"
          ]
        }
      ],
      "source": [
        "from tqdm import tqdm\n",
        "\n",
        "import torch\n",
        "import torch.nn as nn\n",
        "from torch.optim import AdamW\n",
        "from torch.utils.data import DataLoader, random_split\n",
        "\n",
        "\n",
        "def parse_args():\n",
        "\t\"\"\"arguments\"\"\"\n",
        "\tconfig = {\n",
        "\t\t\"data_dir\": \"./Dataset\",\n",
        "\t\t\"save_path\": \"model.ckpt\",\n",
        "\t\t\"batch_size\": 32,\n",
        "\t\t\"n_workers\": 8,\n",
        "\t\t\"valid_steps\": 2000,\n",
        "\t\t\"warmup_steps\": 1000,\n",
        "\t\t\"save_steps\": 10000,\n",
        "\t\t\"total_steps\": 100000,\n",
        "\t}\n",
        "\n",
        "\treturn config\n",
        "\n",
        "\n",
        "def main(\n",
        "\tdata_dir,\n",
        "\tsave_path,\n",
        "\tbatch_size,\n",
        "\tn_workers,\n",
        "\tvalid_steps,\n",
        "\twarmup_steps,\n",
        "\ttotal_steps,\n",
        "\tsave_steps,\n",
        "):\n",
        "\t\"\"\"Main function.\"\"\"\n",
        "\tdevice = torch.device(\"cuda\" if torch.cuda.is_available() else \"cpu\")\n",
        "\tprint(f\"[Info]: Use {device} now!\")\n",
        "\n",
        "\ttrain_loader, valid_loader, speaker_num = get_dataloader(data_dir, batch_size, n_workers)\n",
        "\ttrain_iterator = iter(train_loader)\n",
        "\tprint(f\"[Info]: Finish loading data!\",flush = True)\n",
        "\n",
        "\tmodel = Classifier(n_spks=speaker_num).to(device)\n",
        "\tcriterion = nn.CrossEntropyLoss()\n",
        "\toptimizer = AdamW(model.parameters(), lr=1e-3)\n",
        "\tscheduler = get_cosine_schedule_with_warmup(optimizer, warmup_steps, total_steps)\n",
        "\tprint(f\"[Info]: Finish creating model!\",flush = True)\n",
        "\n",
        "\tbest_accuracy = -1.0\n",
        "\tbest_state_dict = None\n",
        "\n",
        "\tpbar = tqdm(total=valid_steps, ncols=0, desc=\"Train\", unit=\" step\")\n",
        "\n",
        "\tfor step in range(total_steps):\n",
        "\t\t# Get data\n",
        "\t\ttry:\n",
        "\t\t\tbatch = next(train_iterator)\n",
        "\t\texcept StopIteration:\n",
        "\t\t\ttrain_iterator = iter(train_loader)\n",
        "\t\t\tbatch = next(train_iterator)\n",
        "\n",
        "\t\tloss, accuracy = model_fn(batch, model, criterion, device)\n",
        "\t\tbatch_loss = loss.item()\n",
        "\t\tbatch_accuracy = accuracy.item()\n",
        "\n",
        "\t\t# Updata model\n",
        "\t\tloss.backward()\n",
        "\t\toptimizer.step()\n",
        "\t\tscheduler.step()\n",
        "\t\toptimizer.zero_grad()\n",
        "\n",
        "\t\t# Log\n",
        "\t\tpbar.update()\n",
        "\t\t\n",
        "\t\tpbar.set_postfix(\n",
        "\t\t\tloss=f\"{batch_loss:.2f}\",\n",
        "\t\t\taccuracy=f\"{batch_accuracy:.2f}\",\n",
        "\t\t\tstep=step + 1,\n",
        "\t\t)\n",
        "\t\t\n",
        "\t\t# Do validation\n",
        "\t\tif (step + 1) % valid_steps == 0:\n",
        "\t\t\tpbar.close()\n",
        "\n",
        "\t\t\tvalid_accuracy = valid(valid_loader, model, criterion, device)\n",
        "\n",
        "\t\t\t# keep the best model\n",
        "\t\t\tif valid_accuracy > best_accuracy:\n",
        "\t\t\t\tbest_accuracy = valid_accuracy\n",
        "\t\t\t\tbest_state_dict = model.state_dict()\n",
        "\n",
        "\t\t\tpbar = tqdm(total=valid_steps, ncols=0, desc=\"Train\", unit=\" step\")\n",
        "\n",
        "\t\t# Save the best model so far.\n",
        "\t\tif (step + 1) % save_steps == 0 and best_state_dict is not None:\n",
        "\t\t\ttorch.save(best_state_dict, save_path)\n",
        "\t\t\tpbar.write(f\"Step {step + 1}, best model saved. (accuracy={best_accuracy:.4f})\")\n",
        "\n",
        "\tpbar.close()\n",
        "\n",
        "\n",
        "if __name__ == \"__main__\":\n",
        "\tmain(**parse_args())"
      ]
    },
    {
      "cell_type": "markdown",
      "metadata": {
        "id": "NLatBYAhNNMx"
      },
      "source": [
        "# Inference\n",
        "\n",
        "## Dataset of inference"
      ]
    },
    {
      "cell_type": "code",
      "execution_count": null,
      "metadata": {
        "id": "efS4pCmAJXJH"
      },
      "outputs": [],
      "source": [
        "import os\n",
        "import json\n",
        "import torch\n",
        "from pathlib import Path\n",
        "from torch.utils.data import Dataset\n",
        "\n",
        "\n",
        "class InferenceDataset(Dataset):\n",
        "\tdef __init__(self, data_dir):\n",
        "\t\ttestdata_path = Path(data_dir) / \"testdata.json\"\n",
        "\t\tmetadata = json.load(testdata_path.open())\n",
        "\t\tself.data_dir = data_dir\n",
        "\t\tself.data = metadata[\"utterances\"]\n",
        "\n",
        "\tdef __len__(self):\n",
        "\t\treturn len(self.data)\n",
        "\n",
        "\tdef __getitem__(self, index):\n",
        "\t\tutterance = self.data[index]\n",
        "\t\tfeat_path = utterance[\"feature_path\"]\n",
        "\t\tmel = torch.load(os.path.join(self.data_dir, feat_path))\n",
        "\n",
        "\t\treturn feat_path, mel\n",
        "\n",
        "\n",
        "def inference_collate_batch(batch):\n",
        "\t\"\"\"Collate a batch of data.\"\"\"\n",
        "\tfeat_paths, mels = zip(*batch)\n",
        "\n",
        "\treturn feat_paths, torch.stack(mels)"
      ]
    },
    {
      "cell_type": "markdown",
      "metadata": {
        "id": "tl0WnYwxNK_S"
      },
      "source": [
        "## Main funcrion of Inference"
      ]
    },
    {
      "cell_type": "code",
      "execution_count": null,
      "metadata": {
        "colab": {
          "base_uri": "https://localhost:8080/",
          "height": 156,
          "referenced_widgets": [
            "6ef714b16e6442edacefca6112070ede",
            "f95d3a4e6550476db0f073df931ab389",
            "54e3c2ac942b4ab098c59e9a878d577d",
            "4a80a940b08f4cf59c2f86369507e1c6",
            "e03c632bcbaf4d3bb2f79c5547f9566f",
            "5850cae82c5c4c4ab3e4572e4587c23c",
            "d747cca0a2d9490ab4767d7f15902ad9",
            "fb07cc8d33b746cebe0536f3284b5993",
            "afe02c5395674830af43111f92dadd58",
            "b3fedb11480349af8d65762e18c42a21",
            "aa1f544c21e1434b8e2303b03691d5db"
          ]
        },
        "id": "i8SAbuXEJb2A",
        "outputId": "68210edd-c1f7-40f1-d05f-ccd2159684d6"
      },
      "outputs": [
        {
          "output_type": "stream",
          "name": "stdout",
          "text": [
            "[Info]: Use cuda now!\n",
            "[Info]: Finish loading data!\n",
            "[Info]: Finish creating model!\n"
          ]
        },
        {
          "output_type": "stream",
          "name": "stderr",
          "text": [
            "/usr/local/lib/python3.7/dist-packages/torch/utils/data/dataloader.py:481: UserWarning: This DataLoader will create 8 worker processes in total. Our suggested max number of worker in current system is 4, which is smaller than what this DataLoader is going to create. Please be aware that excessive worker creation might get DataLoader running slow or even freeze, lower the worker number to avoid potential slowness/freeze if necessary.\n",
            "  cpuset_checked))\n"
          ]
        },
        {
          "output_type": "display_data",
          "data": {
            "text/plain": [
              "  0%|          | 0/8000 [00:00<?, ?it/s]"
            ],
            "application/vnd.jupyter.widget-view+json": {
              "version_major": 2,
              "version_minor": 0,
              "model_id": "6ef714b16e6442edacefca6112070ede"
            }
          },
          "metadata": {}
        }
      ],
      "source": [
        "import json\n",
        "import csv\n",
        "from pathlib import Path\n",
        "from tqdm.notebook import tqdm\n",
        "\n",
        "import torch\n",
        "from torch.utils.data import DataLoader\n",
        "\n",
        "def parse_args():\n",
        "\t\"\"\"arguments\"\"\"\n",
        "\tconfig = {\n",
        "\t\t\"data_dir\": \"./Dataset\",\n",
        "\t\t\"model_path\": \"./model.ckpt\",\n",
        "\t\t\"output_path\": \"./output.csv\",\n",
        "\t}\n",
        "\n",
        "\treturn config\n",
        "\n",
        "\n",
        "def main(\n",
        "\tdata_dir,\n",
        "\tmodel_path,\n",
        "\toutput_path,\n",
        "):\n",
        "\t\"\"\"Main function.\"\"\"\n",
        "\tdevice = torch.device(\"cuda\" if torch.cuda.is_available() else \"cpu\")\n",
        "\tprint(f\"[Info]: Use {device} now!\")\n",
        "\n",
        "\tmapping_path = Path(data_dir) / \"mapping.json\"\n",
        "\tmapping = json.load(mapping_path.open())\n",
        "\n",
        "\tdataset = InferenceDataset(data_dir)\n",
        "\tdataloader = DataLoader(\n",
        "\t\tdataset,\n",
        "\t\tbatch_size=1,\n",
        "\t\tshuffle=False,\n",
        "\t\tdrop_last=False,\n",
        "\t\tnum_workers=8,\n",
        "\t\tcollate_fn=inference_collate_batch,\n",
        "\t)\n",
        "\tprint(f\"[Info]: Finish loading data!\",flush = True)\n",
        "\n",
        "\tspeaker_num = len(mapping[\"id2speaker\"])\n",
        "\tmodel = Classifier(n_spks=speaker_num).to(device)\n",
        "\tmodel.load_state_dict(torch.load(model_path))\n",
        "\tmodel.eval()\n",
        "\tprint(f\"[Info]: Finish creating model!\",flush = True)\n",
        "\n",
        "\tresults = [[\"Id\", \"Category\"]]\n",
        "\tfor feat_paths, mels in tqdm(dataloader):\n",
        "\t\twith torch.no_grad():\n",
        "\t\t\tmels = mels.to(device)\n",
        "\t\t\touts = model(mels)\n",
        "\t\t\tpreds = outs.argmax(1).cpu().numpy()\n",
        "\t\t\tfor feat_path, pred in zip(feat_paths, preds):\n",
        "\t\t\t\tresults.append([feat_path, mapping[\"id2speaker\"][str(pred)]])\n",
        "\n",
        "\twith open(output_path, 'w', newline='') as csvfile:\n",
        "\t\twriter = csv.writer(csvfile)\n",
        "\t\twriter.writerows(results)\n",
        "\n",
        "\n",
        "if __name__ == \"__main__\":\n",
        "\tmain(**parse_args())"
      ]
    },
    {
      "cell_type": "code",
      "execution_count": null,
      "metadata": {
        "id": "Hce93IEQONwT"
      },
      "outputs": [],
      "source": [
        ""
      ]
    }
  ],
  "metadata": {
    "accelerator": "GPU",
    "colab": {
      "collapsed_sections": [],
      "machine_shape": "hm",
      "name": "HW4_11.ipynb",
      "provenance": []
    },
    "kernelspec": {
      "display_name": "Python 3",
      "name": "python3"
    },
    "language_info": {
      "name": "python"
    },
    "widgets": {
      "application/vnd.jupyter.widget-state+json": {
        "6ef714b16e6442edacefca6112070ede": {
          "model_module": "@jupyter-widgets/controls",
          "model_name": "HBoxModel",
          "model_module_version": "1.5.0",
          "state": {
            "_dom_classes": [],
            "_model_module": "@jupyter-widgets/controls",
            "_model_module_version": "1.5.0",
            "_model_name": "HBoxModel",
            "_view_count": null,
            "_view_module": "@jupyter-widgets/controls",
            "_view_module_version": "1.5.0",
            "_view_name": "HBoxView",
            "box_style": "",
            "children": [
              "IPY_MODEL_f95d3a4e6550476db0f073df931ab389",
              "IPY_MODEL_54e3c2ac942b4ab098c59e9a878d577d",
              "IPY_MODEL_4a80a940b08f4cf59c2f86369507e1c6"
            ],
            "layout": "IPY_MODEL_e03c632bcbaf4d3bb2f79c5547f9566f"
          }
        },
        "f95d3a4e6550476db0f073df931ab389": {
          "model_module": "@jupyter-widgets/controls",
          "model_name": "HTMLModel",
          "model_module_version": "1.5.0",
          "state": {
            "_dom_classes": [],
            "_model_module": "@jupyter-widgets/controls",
            "_model_module_version": "1.5.0",
            "_model_name": "HTMLModel",
            "_view_count": null,
            "_view_module": "@jupyter-widgets/controls",
            "_view_module_version": "1.5.0",
            "_view_name": "HTMLView",
            "description": "",
            "description_tooltip": null,
            "layout": "IPY_MODEL_5850cae82c5c4c4ab3e4572e4587c23c",
            "placeholder": "​",
            "style": "IPY_MODEL_d747cca0a2d9490ab4767d7f15902ad9",
            "value": "100%"
          }
        },
        "54e3c2ac942b4ab098c59e9a878d577d": {
          "model_module": "@jupyter-widgets/controls",
          "model_name": "FloatProgressModel",
          "model_module_version": "1.5.0",
          "state": {
            "_dom_classes": [],
            "_model_module": "@jupyter-widgets/controls",
            "_model_module_version": "1.5.0",
            "_model_name": "FloatProgressModel",
            "_view_count": null,
            "_view_module": "@jupyter-widgets/controls",
            "_view_module_version": "1.5.0",
            "_view_name": "ProgressView",
            "bar_style": "success",
            "description": "",
            "description_tooltip": null,
            "layout": "IPY_MODEL_fb07cc8d33b746cebe0536f3284b5993",
            "max": 8000,
            "min": 0,
            "orientation": "horizontal",
            "style": "IPY_MODEL_afe02c5395674830af43111f92dadd58",
            "value": 8000
          }
        },
        "4a80a940b08f4cf59c2f86369507e1c6": {
          "model_module": "@jupyter-widgets/controls",
          "model_name": "HTMLModel",
          "model_module_version": "1.5.0",
          "state": {
            "_dom_classes": [],
            "_model_module": "@jupyter-widgets/controls",
            "_model_module_version": "1.5.0",
            "_model_name": "HTMLModel",
            "_view_count": null,
            "_view_module": "@jupyter-widgets/controls",
            "_view_module_version": "1.5.0",
            "_view_name": "HTMLView",
            "description": "",
            "description_tooltip": null,
            "layout": "IPY_MODEL_b3fedb11480349af8d65762e18c42a21",
            "placeholder": "​",
            "style": "IPY_MODEL_aa1f544c21e1434b8e2303b03691d5db",
            "value": " 8000/8000 [02:35&lt;00:00, 46.71it/s]"
          }
        },
        "e03c632bcbaf4d3bb2f79c5547f9566f": {
          "model_module": "@jupyter-widgets/base",
          "model_name": "LayoutModel",
          "model_module_version": "1.2.0",
          "state": {
            "_model_module": "@jupyter-widgets/base",
            "_model_module_version": "1.2.0",
            "_model_name": "LayoutModel",
            "_view_count": null,
            "_view_module": "@jupyter-widgets/base",
            "_view_module_version": "1.2.0",
            "_view_name": "LayoutView",
            "align_content": null,
            "align_items": null,
            "align_self": null,
            "border": null,
            "bottom": null,
            "display": null,
            "flex": null,
            "flex_flow": null,
            "grid_area": null,
            "grid_auto_columns": null,
            "grid_auto_flow": null,
            "grid_auto_rows": null,
            "grid_column": null,
            "grid_gap": null,
            "grid_row": null,
            "grid_template_areas": null,
            "grid_template_columns": null,
            "grid_template_rows": null,
            "height": null,
            "justify_content": null,
            "justify_items": null,
            "left": null,
            "margin": null,
            "max_height": null,
            "max_width": null,
            "min_height": null,
            "min_width": null,
            "object_fit": null,
            "object_position": null,
            "order": null,
            "overflow": null,
            "overflow_x": null,
            "overflow_y": null,
            "padding": null,
            "right": null,
            "top": null,
            "visibility": null,
            "width": null
          }
        },
        "5850cae82c5c4c4ab3e4572e4587c23c": {
          "model_module": "@jupyter-widgets/base",
          "model_name": "LayoutModel",
          "model_module_version": "1.2.0",
          "state": {
            "_model_module": "@jupyter-widgets/base",
            "_model_module_version": "1.2.0",
            "_model_name": "LayoutModel",
            "_view_count": null,
            "_view_module": "@jupyter-widgets/base",
            "_view_module_version": "1.2.0",
            "_view_name": "LayoutView",
            "align_content": null,
            "align_items": null,
            "align_self": null,
            "border": null,
            "bottom": null,
            "display": null,
            "flex": null,
            "flex_flow": null,
            "grid_area": null,
            "grid_auto_columns": null,
            "grid_auto_flow": null,
            "grid_auto_rows": null,
            "grid_column": null,
            "grid_gap": null,
            "grid_row": null,
            "grid_template_areas": null,
            "grid_template_columns": null,
            "grid_template_rows": null,
            "height": null,
            "justify_content": null,
            "justify_items": null,
            "left": null,
            "margin": null,
            "max_height": null,
            "max_width": null,
            "min_height": null,
            "min_width": null,
            "object_fit": null,
            "object_position": null,
            "order": null,
            "overflow": null,
            "overflow_x": null,
            "overflow_y": null,
            "padding": null,
            "right": null,
            "top": null,
            "visibility": null,
            "width": null
          }
        },
        "d747cca0a2d9490ab4767d7f15902ad9": {
          "model_module": "@jupyter-widgets/controls",
          "model_name": "DescriptionStyleModel",
          "model_module_version": "1.5.0",
          "state": {
            "_model_module": "@jupyter-widgets/controls",
            "_model_module_version": "1.5.0",
            "_model_name": "DescriptionStyleModel",
            "_view_count": null,
            "_view_module": "@jupyter-widgets/base",
            "_view_module_version": "1.2.0",
            "_view_name": "StyleView",
            "description_width": ""
          }
        },
        "fb07cc8d33b746cebe0536f3284b5993": {
          "model_module": "@jupyter-widgets/base",
          "model_name": "LayoutModel",
          "model_module_version": "1.2.0",
          "state": {
            "_model_module": "@jupyter-widgets/base",
            "_model_module_version": "1.2.0",
            "_model_name": "LayoutModel",
            "_view_count": null,
            "_view_module": "@jupyter-widgets/base",
            "_view_module_version": "1.2.0",
            "_view_name": "LayoutView",
            "align_content": null,
            "align_items": null,
            "align_self": null,
            "border": null,
            "bottom": null,
            "display": null,
            "flex": null,
            "flex_flow": null,
            "grid_area": null,
            "grid_auto_columns": null,
            "grid_auto_flow": null,
            "grid_auto_rows": null,
            "grid_column": null,
            "grid_gap": null,
            "grid_row": null,
            "grid_template_areas": null,
            "grid_template_columns": null,
            "grid_template_rows": null,
            "height": null,
            "justify_content": null,
            "justify_items": null,
            "left": null,
            "margin": null,
            "max_height": null,
            "max_width": null,
            "min_height": null,
            "min_width": null,
            "object_fit": null,
            "object_position": null,
            "order": null,
            "overflow": null,
            "overflow_x": null,
            "overflow_y": null,
            "padding": null,
            "right": null,
            "top": null,
            "visibility": null,
            "width": null
          }
        },
        "afe02c5395674830af43111f92dadd58": {
          "model_module": "@jupyter-widgets/controls",
          "model_name": "ProgressStyleModel",
          "model_module_version": "1.5.0",
          "state": {
            "_model_module": "@jupyter-widgets/controls",
            "_model_module_version": "1.5.0",
            "_model_name": "ProgressStyleModel",
            "_view_count": null,
            "_view_module": "@jupyter-widgets/base",
            "_view_module_version": "1.2.0",
            "_view_name": "StyleView",
            "bar_color": null,
            "description_width": ""
          }
        },
        "b3fedb11480349af8d65762e18c42a21": {
          "model_module": "@jupyter-widgets/base",
          "model_name": "LayoutModel",
          "model_module_version": "1.2.0",
          "state": {
            "_model_module": "@jupyter-widgets/base",
            "_model_module_version": "1.2.0",
            "_model_name": "LayoutModel",
            "_view_count": null,
            "_view_module": "@jupyter-widgets/base",
            "_view_module_version": "1.2.0",
            "_view_name": "LayoutView",
            "align_content": null,
            "align_items": null,
            "align_self": null,
            "border": null,
            "bottom": null,
            "display": null,
            "flex": null,
            "flex_flow": null,
            "grid_area": null,
            "grid_auto_columns": null,
            "grid_auto_flow": null,
            "grid_auto_rows": null,
            "grid_column": null,
            "grid_gap": null,
            "grid_row": null,
            "grid_template_areas": null,
            "grid_template_columns": null,
            "grid_template_rows": null,
            "height": null,
            "justify_content": null,
            "justify_items": null,
            "left": null,
            "margin": null,
            "max_height": null,
            "max_width": null,
            "min_height": null,
            "min_width": null,
            "object_fit": null,
            "object_position": null,
            "order": null,
            "overflow": null,
            "overflow_x": null,
            "overflow_y": null,
            "padding": null,
            "right": null,
            "top": null,
            "visibility": null,
            "width": null
          }
        },
        "aa1f544c21e1434b8e2303b03691d5db": {
          "model_module": "@jupyter-widgets/controls",
          "model_name": "DescriptionStyleModel",
          "model_module_version": "1.5.0",
          "state": {
            "_model_module": "@jupyter-widgets/controls",
            "_model_module_version": "1.5.0",
            "_model_name": "DescriptionStyleModel",
            "_view_count": null,
            "_view_module": "@jupyter-widgets/base",
            "_view_module_version": "1.2.0",
            "_view_name": "StyleView",
            "description_width": ""
          }
        }
      }
    }
  },
  "nbformat": 4,
  "nbformat_minor": 0
}