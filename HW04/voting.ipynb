{
 "cells": [
  {
   "cell_type": "code",
   "execution_count": null,
   "metadata": {},
   "outputs": [],
   "source": [
    "# I use the predicted results from my 6 models to do voting to decide the final result. \n",
    "# Since I found the result from HW4_14.ipynb got very good  public score on Kaggle, \n",
    "# I let the result from HW4_14.ipynb has two times more contribution to the final prediction. "
   ]
  },
  {
   "cell_type": "code",
   "execution_count": 2,
   "metadata": {},
   "outputs": [],
   "source": [
    "import numpy as np\n",
    "import pandas as pd"
   ]
  },
  {
   "cell_type": "code",
   "execution_count": 3,
   "metadata": {
    "scrolled": true
   },
   "outputs": [],
   "source": [
    "pred1 = pd.read_csv(\"output_6.csv\")\n",
    "pred2 = pd.read_csv(\"output_7.csv\")\n",
    "pred3 = pd.read_csv(\"output_8.csv\")\n",
    "pred4 = pd.read_csv(\"output_11.csv\")\n",
    "pred5 = pd.read_csv(\"output_14.csv\")\n",
    "pred6 = pd.read_csv(\"output_18.csv\")\n",
    "pred7 = pd.read_csv(\"output_14.csv\")"
   ]
  },
  {
   "cell_type": "code",
   "execution_count": 5,
   "metadata": {},
   "outputs": [],
   "source": [
    "def most_frequent(List):\n",
    "    counter = 0\n",
    "    num = List[0]\n",
    "     \n",
    "    for i in List:\n",
    "        curr_frequency = List.count(i)\n",
    "        if(curr_frequency> counter):\n",
    "            counter = curr_frequency\n",
    "            num = i\n",
    " \n",
    "    return num"
   ]
  },
  {
   "cell_type": "code",
   "execution_count": 6,
   "metadata": {},
   "outputs": [],
   "source": [
    "for idx, classes in enumerate(range(8000)):\n",
    "    class1 = pred1.values[idx, 1]\n",
    "    class2 = pred2.values[idx, 1]\n",
    "    class3 = pred3.values[idx, 1]\n",
    "    class4 = pred4.values[idx, 1]\n",
    "    class5 = pred5.values[idx, 1]\n",
    "    class6 = pred6.values[idx, 1]\n",
    "    class7 = pred7.values[idx, 1]\n",
    "    all_classes = [class1, class2, class3, class4, class5, class6, class7]\n",
    "    pred1.values[idx, 1] = most_frequent(all_classes)"
   ]
  },
  {
   "cell_type": "code",
   "execution_count": 8,
   "metadata": {},
   "outputs": [],
   "source": [
    "pred1.to_csv(\"output_19.csv\", index=False)"
   ]
  },
  {
   "cell_type": "code",
   "execution_count": null,
   "metadata": {},
   "outputs": [],
   "source": []
  }
 ],
 "metadata": {
  "kernelspec": {
   "display_name": "Python 3",
   "language": "python",
   "name": "python3"
  },
  "language_info": {
   "codemirror_mode": {
    "name": "ipython",
    "version": 3
   },
   "file_extension": ".py",
   "mimetype": "text/x-python",
   "name": "python",
   "nbconvert_exporter": "python",
   "pygments_lexer": "ipython3",
   "version": "3.8.5"
  }
 },
 "nbformat": 4,
 "nbformat_minor": 4
}
